{
 "cells": [
  {
   "cell_type": "code",
   "execution_count": 1,
   "id": "477a24bd",
   "metadata": {},
   "outputs": [],
   "source": [
    "import pandas as pd\n",
    "import sys\n",
    "sys.path.append('../')\n",
    "import tools.sql_tools_insert_db as  db\n",
    "from config.configuration import engine"
   ]
  },
  {
   "cell_type": "code",
   "execution_count": 12,
   "id": "9ff9eb50",
   "metadata": {},
   "outputs": [],
   "source": [
    "df = pd.read_csv(\"../sw/cleandf.csv\")"
   ]
  },
  {
   "cell_type": "code",
   "execution_count": 13,
   "id": "b1998c57",
   "metadata": {},
   "outputs": [],
   "source": [
    "df['dialogue'] = df['dialogue'].apply(db.change)"
   ]
  },
  {
   "cell_type": "markdown",
   "id": "521c001e",
   "metadata": {},
   "source": [
    "# We start doing queries to insert values"
   ]
  },
  {
   "cell_type": "markdown",
   "id": "6cdd13f1",
   "metadata": {},
   "source": [
    "# We insert the characters in our database"
   ]
  },
  {
   "cell_type": "code",
   "execution_count": 75,
   "id": "8e371f2c",
   "metadata": {},
   "outputs": [],
   "source": [
    "for i in df['char']:\n",
    "    db.char(i)"
   ]
  },
  {
   "cell_type": "markdown",
   "id": "48df9d8f",
   "metadata": {},
   "source": [
    "# Insert episodes"
   ]
  },
  {
   "cell_type": "code",
   "execution_count": 18,
   "id": "ab2ae6da",
   "metadata": {},
   "outputs": [],
   "source": [
    "for i in df['episode']:\n",
    "    db.episode(i)"
   ]
  },
  {
   "cell_type": "markdown",
   "id": "8d169392",
   "metadata": {},
   "source": [
    "# Insert dialogues"
   ]
  },
  {
   "cell_type": "code",
   "execution_count": 185,
   "id": "7d2ab177",
   "metadata": {},
   "outputs": [],
   "source": [
    "for _, row in df.iterrows():\n",
    "    db.dialogue(row)"
   ]
  }
 ],
 "metadata": {
  "kernelspec": {
   "display_name": "iron",
   "language": "python",
   "name": "iron"
  },
  "language_info": {
   "codemirror_mode": {
    "name": "ipython",
    "version": 3
   },
   "file_extension": ".py",
   "mimetype": "text/x-python",
   "name": "python",
   "nbconvert_exporter": "python",
   "pygments_lexer": "ipython3",
   "version": "3.9.7"
  },
  "toc": {
   "base_numbering": 1,
   "nav_menu": {},
   "number_sections": true,
   "sideBar": true,
   "skip_h1_title": false,
   "title_cell": "Table of Contents",
   "title_sidebar": "Contents",
   "toc_cell": false,
   "toc_position": {},
   "toc_section_display": true,
   "toc_window_display": false
  }
 },
 "nbformat": 4,
 "nbformat_minor": 5
}
