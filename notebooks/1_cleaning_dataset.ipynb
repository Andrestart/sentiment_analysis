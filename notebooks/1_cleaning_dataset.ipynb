{
 "cells": [
  {
   "cell_type": "code",
   "execution_count": 1,
   "id": "1974ce19",
   "metadata": {},
   "outputs": [],
   "source": [
    "import pandas as pd\n",
    "import sqlalchemy as alch"
   ]
  },
  {
   "cell_type": "code",
   "execution_count": 2,
   "id": "6c089683",
   "metadata": {},
   "outputs": [
    {
     "name": "stderr",
     "output_type": "stream",
     "text": [
      "/home/andrestart/anaconda3/envs/iron/lib/python3.9/site-packages/pandas/util/_decorators.py:311: ParserWarning: Falling back to the 'python' engine because the 'c' engine does not support regex separators (separators > 1 char and different from '\\s+' are interpreted as regex); you can avoid this warning by specifying engine='python'.\n",
      "  return func(*args, **kwargs)\n"
     ]
    },
    {
     "data": {
      "text/html": [
       "<div>\n",
       "<style scoped>\n",
       "    .dataframe tbody tr th:only-of-type {\n",
       "        vertical-align: middle;\n",
       "    }\n",
       "\n",
       "    .dataframe tbody tr th {\n",
       "        vertical-align: top;\n",
       "    }\n",
       "\n",
       "    .dataframe thead th {\n",
       "        text-align: right;\n",
       "    }\n",
       "</style>\n",
       "<table border=\"1\" class=\"dataframe\">\n",
       "  <thead>\n",
       "    <tr style=\"text-align: right;\">\n",
       "      <th></th>\n",
       "      <th>\"character\" \"dialogue\"</th>\n",
       "    </tr>\n",
       "  </thead>\n",
       "  <tbody>\n",
       "    <tr>\n",
       "      <th>0</th>\n",
       "      <td>\"1\" \"LUKE\" \"Echo Three to Echo Seven. Han, old...</td>\n",
       "    </tr>\n",
       "    <tr>\n",
       "      <th>1</th>\n",
       "      <td>\"2\" \"HAN\" \"Loud and clear, kid. What's up?\"</td>\n",
       "    </tr>\n",
       "    <tr>\n",
       "      <th>2</th>\n",
       "      <td>\"3\" \"LUKE\" \"Well, I finished my circle. I don'...</td>\n",
       "    </tr>\n",
       "    <tr>\n",
       "      <th>3</th>\n",
       "      <td>\"4\" \"HAN\" \"There isn't enough life on this ice...</td>\n",
       "    </tr>\n",
       "    <tr>\n",
       "      <th>4</th>\n",
       "      <td>\"5\" \"LUKE\" \"Right. I'll see you shortly. There...</td>\n",
       "    </tr>\n",
       "  </tbody>\n",
       "</table>\n",
       "</div>"
      ],
      "text/plain": [
       "                              \"character\" \"dialogue\"\n",
       "0  \"1\" \"LUKE\" \"Echo Three to Echo Seven. Han, old...\n",
       "1        \"2\" \"HAN\" \"Loud and clear, kid. What's up?\"\n",
       "2  \"3\" \"LUKE\" \"Well, I finished my circle. I don'...\n",
       "3  \"4\" \"HAN\" \"There isn't enough life on this ice...\n",
       "4  \"5\" \"LUKE\" \"Right. I'll see you shortly. There..."
      ]
     },
     "execution_count": 2,
     "metadata": {},
     "output_type": "execute_result"
    }
   ],
   "source": [
    "sw5 = pd.read_csv(\"sw/SW_EpisodeV.txt\", sep='\"\"')\n",
    "sw5.head()"
   ]
  },
  {
   "cell_type": "code",
   "execution_count": 3,
   "id": "5a2af4cc",
   "metadata": {},
   "outputs": [],
   "source": [
    "sw5.columns = [\"col\"]"
   ]
  },
  {
   "cell_type": "code",
   "execution_count": 4,
   "id": "25d7a883",
   "metadata": {},
   "outputs": [
    {
     "data": {
      "text/plain": [
       "Index(['col'], dtype='object')"
      ]
     },
     "execution_count": 4,
     "metadata": {},
     "output_type": "execute_result"
    }
   ],
   "source": [
    "sw5.columns"
   ]
  },
  {
   "cell_type": "code",
   "execution_count": 5,
   "id": "d7812085",
   "metadata": {},
   "outputs": [
    {
     "data": {
      "text/html": [
       "<div>\n",
       "<style scoped>\n",
       "    .dataframe tbody tr th:only-of-type {\n",
       "        vertical-align: middle;\n",
       "    }\n",
       "\n",
       "    .dataframe tbody tr th {\n",
       "        vertical-align: top;\n",
       "    }\n",
       "\n",
       "    .dataframe thead th {\n",
       "        text-align: right;\n",
       "    }\n",
       "</style>\n",
       "<table border=\"1\" class=\"dataframe\">\n",
       "  <thead>\n",
       "    <tr style=\"text-align: right;\">\n",
       "      <th></th>\n",
       "      <th>0</th>\n",
       "      <th>1</th>\n",
       "      <th>2</th>\n",
       "      <th>3</th>\n",
       "      <th>4</th>\n",
       "      <th>5</th>\n",
       "      <th>6</th>\n",
       "      <th>7</th>\n",
       "      <th>8</th>\n",
       "    </tr>\n",
       "  </thead>\n",
       "  <tbody>\n",
       "    <tr>\n",
       "      <th>0</th>\n",
       "      <td></td>\n",
       "      <td>1</td>\n",
       "      <td></td>\n",
       "      <td>LUKE</td>\n",
       "      <td></td>\n",
       "      <td>Echo Three to Echo Seven. Han, old buddy, do y...</td>\n",
       "      <td></td>\n",
       "      <td>None</td>\n",
       "      <td>None</td>\n",
       "    </tr>\n",
       "    <tr>\n",
       "      <th>1</th>\n",
       "      <td></td>\n",
       "      <td>2</td>\n",
       "      <td></td>\n",
       "      <td>HAN</td>\n",
       "      <td></td>\n",
       "      <td>Loud and clear, kid. What's up?</td>\n",
       "      <td></td>\n",
       "      <td>None</td>\n",
       "      <td>None</td>\n",
       "    </tr>\n",
       "    <tr>\n",
       "      <th>2</th>\n",
       "      <td></td>\n",
       "      <td>3</td>\n",
       "      <td></td>\n",
       "      <td>LUKE</td>\n",
       "      <td></td>\n",
       "      <td>Well, I finished my circle. I don't pick up an...</td>\n",
       "      <td></td>\n",
       "      <td>None</td>\n",
       "      <td>None</td>\n",
       "    </tr>\n",
       "    <tr>\n",
       "      <th>3</th>\n",
       "      <td></td>\n",
       "      <td>4</td>\n",
       "      <td></td>\n",
       "      <td>HAN</td>\n",
       "      <td></td>\n",
       "      <td>There isn't enough life on this ice cube to fi...</td>\n",
       "      <td></td>\n",
       "      <td>None</td>\n",
       "      <td>None</td>\n",
       "    </tr>\n",
       "    <tr>\n",
       "      <th>4</th>\n",
       "      <td></td>\n",
       "      <td>5</td>\n",
       "      <td></td>\n",
       "      <td>LUKE</td>\n",
       "      <td></td>\n",
       "      <td>Right. I'll see you shortly. There's a meteori...</td>\n",
       "      <td></td>\n",
       "      <td>None</td>\n",
       "      <td>None</td>\n",
       "    </tr>\n",
       "    <tr>\n",
       "      <th>...</th>\n",
       "      <td>...</td>\n",
       "      <td>...</td>\n",
       "      <td>...</td>\n",
       "      <td>...</td>\n",
       "      <td>...</td>\n",
       "      <td>...</td>\n",
       "      <td>...</td>\n",
       "      <td>...</td>\n",
       "      <td>...</td>\n",
       "    </tr>\n",
       "    <tr>\n",
       "      <th>834</th>\n",
       "      <td></td>\n",
       "      <td>835</td>\n",
       "      <td></td>\n",
       "      <td>LUKE</td>\n",
       "      <td></td>\n",
       "      <td>I'll meet you at the rendezvous point on  Tato...</td>\n",
       "      <td></td>\n",
       "      <td>None</td>\n",
       "      <td>None</td>\n",
       "    </tr>\n",
       "    <tr>\n",
       "      <th>835</th>\n",
       "      <td></td>\n",
       "      <td>836</td>\n",
       "      <td></td>\n",
       "      <td>LANDO</td>\n",
       "      <td></td>\n",
       "      <td>Princess, we'll find Han. I promise.</td>\n",
       "      <td></td>\n",
       "      <td>None</td>\n",
       "      <td>None</td>\n",
       "    </tr>\n",
       "    <tr>\n",
       "      <th>836</th>\n",
       "      <td></td>\n",
       "      <td>837</td>\n",
       "      <td></td>\n",
       "      <td>LUKE</td>\n",
       "      <td></td>\n",
       "      <td>Chewie, I'll be waiting for your signal.</td>\n",
       "      <td></td>\n",
       "      <td>None</td>\n",
       "      <td>None</td>\n",
       "    </tr>\n",
       "    <tr>\n",
       "      <th>837</th>\n",
       "      <td></td>\n",
       "      <td>838</td>\n",
       "      <td></td>\n",
       "      <td>LUKE</td>\n",
       "      <td></td>\n",
       "      <td>Take care, you two. May the Force be with you.</td>\n",
       "      <td></td>\n",
       "      <td>None</td>\n",
       "      <td>None</td>\n",
       "    </tr>\n",
       "    <tr>\n",
       "      <th>838</th>\n",
       "      <td></td>\n",
       "      <td>839</td>\n",
       "      <td></td>\n",
       "      <td>LUKE</td>\n",
       "      <td></td>\n",
       "      <td>Ow!</td>\n",
       "      <td></td>\n",
       "      <td>None</td>\n",
       "      <td>None</td>\n",
       "    </tr>\n",
       "  </tbody>\n",
       "</table>\n",
       "<p>839 rows × 9 columns</p>\n",
       "</div>"
      ],
      "text/plain": [
       "    0     1  2      3  4                                                  5  \\\n",
       "0         1      LUKE     Echo Three to Echo Seven. Han, old buddy, do y...   \n",
       "1         2       HAN                       Loud and clear, kid. What's up?   \n",
       "2         3      LUKE     Well, I finished my circle. I don't pick up an...   \n",
       "3         4       HAN     There isn't enough life on this ice cube to fi...   \n",
       "4         5      LUKE     Right. I'll see you shortly. There's a meteori...   \n",
       "..  ..  ... ..    ... ..                                                ...   \n",
       "834     835      LUKE     I'll meet you at the rendezvous point on  Tato...   \n",
       "835     836     LANDO                  Princess, we'll find Han. I promise.   \n",
       "836     837      LUKE              Chewie, I'll be waiting for your signal.   \n",
       "837     838      LUKE        Take care, you two. May the Force be with you.   \n",
       "838     839      LUKE                                                   Ow!   \n",
       "\n",
       "    6      7     8  \n",
       "0       None  None  \n",
       "1       None  None  \n",
       "2       None  None  \n",
       "3       None  None  \n",
       "4       None  None  \n",
       "..  ..   ...   ...  \n",
       "834     None  None  \n",
       "835     None  None  \n",
       "836     None  None  \n",
       "837     None  None  \n",
       "838     None  None  \n",
       "\n",
       "[839 rows x 9 columns]"
      ]
     },
     "execution_count": 5,
     "metadata": {},
     "output_type": "execute_result"
    }
   ],
   "source": [
    "df5 = sw5['col'].str.split('\"', expand = True)\n",
    "df5"
   ]
  },
  {
   "cell_type": "code",
   "execution_count": 6,
   "id": "b305daad",
   "metadata": {},
   "outputs": [],
   "source": [
    "df5[\"episode\"] = \"episode5\""
   ]
  },
  {
   "cell_type": "code",
   "execution_count": 7,
   "id": "c976dff8",
   "metadata": {},
   "outputs": [],
   "source": [
    "df5n = df5.drop(df5.columns[[0, 1, 2, 4,6,7,8]], axis=1)"
   ]
  },
  {
   "cell_type": "code",
   "execution_count": 8,
   "id": "270fa3dc",
   "metadata": {},
   "outputs": [
    {
     "data": {
      "text/html": [
       "<div>\n",
       "<style scoped>\n",
       "    .dataframe tbody tr th:only-of-type {\n",
       "        vertical-align: middle;\n",
       "    }\n",
       "\n",
       "    .dataframe tbody tr th {\n",
       "        vertical-align: top;\n",
       "    }\n",
       "\n",
       "    .dataframe thead th {\n",
       "        text-align: right;\n",
       "    }\n",
       "</style>\n",
       "<table border=\"1\" class=\"dataframe\">\n",
       "  <thead>\n",
       "    <tr style=\"text-align: right;\">\n",
       "      <th></th>\n",
       "      <th>char</th>\n",
       "      <th>dialogue</th>\n",
       "      <th>episode</th>\n",
       "    </tr>\n",
       "  </thead>\n",
       "  <tbody>\n",
       "    <tr>\n",
       "      <th>0</th>\n",
       "      <td>LUKE</td>\n",
       "      <td>Echo Three to Echo Seven. Han, old buddy, do y...</td>\n",
       "      <td>episode5</td>\n",
       "    </tr>\n",
       "    <tr>\n",
       "      <th>1</th>\n",
       "      <td>HAN</td>\n",
       "      <td>Loud and clear, kid. What's up?</td>\n",
       "      <td>episode5</td>\n",
       "    </tr>\n",
       "    <tr>\n",
       "      <th>2</th>\n",
       "      <td>LUKE</td>\n",
       "      <td>Well, I finished my circle. I don't pick up an...</td>\n",
       "      <td>episode5</td>\n",
       "    </tr>\n",
       "    <tr>\n",
       "      <th>3</th>\n",
       "      <td>HAN</td>\n",
       "      <td>There isn't enough life on this ice cube to fi...</td>\n",
       "      <td>episode5</td>\n",
       "    </tr>\n",
       "    <tr>\n",
       "      <th>4</th>\n",
       "      <td>LUKE</td>\n",
       "      <td>Right. I'll see you shortly. There's a meteori...</td>\n",
       "      <td>episode5</td>\n",
       "    </tr>\n",
       "    <tr>\n",
       "      <th>...</th>\n",
       "      <td>...</td>\n",
       "      <td>...</td>\n",
       "      <td>...</td>\n",
       "    </tr>\n",
       "    <tr>\n",
       "      <th>834</th>\n",
       "      <td>LUKE</td>\n",
       "      <td>I'll meet you at the rendezvous point on  Tato...</td>\n",
       "      <td>episode5</td>\n",
       "    </tr>\n",
       "    <tr>\n",
       "      <th>835</th>\n",
       "      <td>LANDO</td>\n",
       "      <td>Princess, we'll find Han. I promise.</td>\n",
       "      <td>episode5</td>\n",
       "    </tr>\n",
       "    <tr>\n",
       "      <th>836</th>\n",
       "      <td>LUKE</td>\n",
       "      <td>Chewie, I'll be waiting for your signal.</td>\n",
       "      <td>episode5</td>\n",
       "    </tr>\n",
       "    <tr>\n",
       "      <th>837</th>\n",
       "      <td>LUKE</td>\n",
       "      <td>Take care, you two. May the Force be with you.</td>\n",
       "      <td>episode5</td>\n",
       "    </tr>\n",
       "    <tr>\n",
       "      <th>838</th>\n",
       "      <td>LUKE</td>\n",
       "      <td>Ow!</td>\n",
       "      <td>episode5</td>\n",
       "    </tr>\n",
       "  </tbody>\n",
       "</table>\n",
       "<p>839 rows × 3 columns</p>\n",
       "</div>"
      ],
      "text/plain": [
       "      char                                           dialogue   episode\n",
       "0     LUKE  Echo Three to Echo Seven. Han, old buddy, do y...  episode5\n",
       "1      HAN                    Loud and clear, kid. What's up?  episode5\n",
       "2     LUKE  Well, I finished my circle. I don't pick up an...  episode5\n",
       "3      HAN  There isn't enough life on this ice cube to fi...  episode5\n",
       "4     LUKE  Right. I'll see you shortly. There's a meteori...  episode5\n",
       "..     ...                                                ...       ...\n",
       "834   LUKE  I'll meet you at the rendezvous point on  Tato...  episode5\n",
       "835  LANDO               Princess, we'll find Han. I promise.  episode5\n",
       "836   LUKE           Chewie, I'll be waiting for your signal.  episode5\n",
       "837   LUKE     Take care, you two. May the Force be with you.  episode5\n",
       "838   LUKE                                                Ow!  episode5\n",
       "\n",
       "[839 rows x 3 columns]"
      ]
     },
     "execution_count": 8,
     "metadata": {},
     "output_type": "execute_result"
    }
   ],
   "source": [
    "df5n = df5n.rename(columns={3:'char', 5:'dialogue'})\n",
    "df5n"
   ]
  },
  {
   "cell_type": "markdown",
   "id": "3a6b3363",
   "metadata": {},
   "source": [
    "# Episode 5 done"
   ]
  },
  {
   "cell_type": "code",
   "execution_count": null,
   "id": "4a323a4c",
   "metadata": {},
   "outputs": [],
   "source": []
  },
  {
   "cell_type": "code",
   "execution_count": null,
   "id": "0b79dbe6",
   "metadata": {},
   "outputs": [],
   "source": []
  },
  {
   "cell_type": "code",
   "execution_count": 9,
   "id": "168ad64c",
   "metadata": {},
   "outputs": [
    {
     "name": "stderr",
     "output_type": "stream",
     "text": [
      "/home/andrestart/anaconda3/envs/iron/lib/python3.9/site-packages/pandas/util/_decorators.py:311: ParserWarning: Falling back to the 'python' engine because the 'c' engine does not support regex separators (separators > 1 char and different from '\\s+' are interpreted as regex); you can avoid this warning by specifying engine='python'.\n",
      "  return func(*args, **kwargs)\n"
     ]
    },
    {
     "data": {
      "text/html": [
       "<div>\n",
       "<style scoped>\n",
       "    .dataframe tbody tr th:only-of-type {\n",
       "        vertical-align: middle;\n",
       "    }\n",
       "\n",
       "    .dataframe tbody tr th {\n",
       "        vertical-align: top;\n",
       "    }\n",
       "\n",
       "    .dataframe thead th {\n",
       "        text-align: right;\n",
       "    }\n",
       "</style>\n",
       "<table border=\"1\" class=\"dataframe\">\n",
       "  <thead>\n",
       "    <tr style=\"text-align: right;\">\n",
       "      <th></th>\n",
       "      <th>\"character\" \"dialogue\"</th>\n",
       "    </tr>\n",
       "  </thead>\n",
       "  <tbody>\n",
       "    <tr>\n",
       "      <th>0</th>\n",
       "      <td>\"1\" \"THREEPIO\" \"Did you hear that?  They've sh...</td>\n",
       "    </tr>\n",
       "    <tr>\n",
       "      <th>1</th>\n",
       "      <td>\"2\" \"THREEPIO\" \"We're doomed!\"</td>\n",
       "    </tr>\n",
       "    <tr>\n",
       "      <th>2</th>\n",
       "      <td>\"3\" \"THREEPIO\" \"There'll be no escape for the ...</td>\n",
       "    </tr>\n",
       "    <tr>\n",
       "      <th>3</th>\n",
       "      <td>\"4\" \"THREEPIO\" \"What's that?\"</td>\n",
       "    </tr>\n",
       "    <tr>\n",
       "      <th>4</th>\n",
       "      <td>\"5\" \"THREEPIO\" \"I should have known better tha...</td>\n",
       "    </tr>\n",
       "  </tbody>\n",
       "</table>\n",
       "</div>"
      ],
      "text/plain": [
       "                              \"character\" \"dialogue\"\n",
       "0  \"1\" \"THREEPIO\" \"Did you hear that?  They've sh...\n",
       "1                     \"2\" \"THREEPIO\" \"We're doomed!\"\n",
       "2  \"3\" \"THREEPIO\" \"There'll be no escape for the ...\n",
       "3                      \"4\" \"THREEPIO\" \"What's that?\"\n",
       "4  \"5\" \"THREEPIO\" \"I should have known better tha..."
      ]
     },
     "execution_count": 9,
     "metadata": {},
     "output_type": "execute_result"
    }
   ],
   "source": [
    "sw4 = pd.read_csv(\"sw/SW_EpisodeIV.txt\", sep=' \"\" ')\n",
    "sw4.head()"
   ]
  },
  {
   "cell_type": "code",
   "execution_count": 10,
   "id": "a1e08357",
   "metadata": {},
   "outputs": [],
   "source": [
    "sw4.columns = [\"col\"]"
   ]
  },
  {
   "cell_type": "code",
   "execution_count": 11,
   "id": "486c1977",
   "metadata": {},
   "outputs": [],
   "source": [
    "df4 = sw4['col'].str.split('\"', expand = True)"
   ]
  },
  {
   "cell_type": "code",
   "execution_count": 12,
   "id": "757611bb",
   "metadata": {},
   "outputs": [],
   "source": [
    "df4[\"episode\"] = \"episode4\""
   ]
  },
  {
   "cell_type": "code",
   "execution_count": 13,
   "id": "b78c8c15",
   "metadata": {},
   "outputs": [],
   "source": [
    "df4n = df4.drop(df4.columns[[0, 1, 2, 4,6,7,8,9,10]], axis=1)"
   ]
  },
  {
   "cell_type": "code",
   "execution_count": 14,
   "id": "6780df14",
   "metadata": {},
   "outputs": [],
   "source": [
    "df4n = df4n.rename(columns={3:'char', 5:'dialogue'})"
   ]
  },
  {
   "cell_type": "code",
   "execution_count": 15,
   "id": "95bf6091",
   "metadata": {},
   "outputs": [],
   "source": [
    "newdf = pd.concat([df4n,df5n], axis=0)"
   ]
  },
  {
   "cell_type": "markdown",
   "id": "177a1621",
   "metadata": {},
   "source": [
    "# Episode 4 done"
   ]
  },
  {
   "cell_type": "code",
   "execution_count": 16,
   "id": "fcb19c4a",
   "metadata": {},
   "outputs": [
    {
     "name": "stderr",
     "output_type": "stream",
     "text": [
      "/home/andrestart/anaconda3/envs/iron/lib/python3.9/site-packages/pandas/util/_decorators.py:311: ParserWarning: Falling back to the 'python' engine because the 'c' engine does not support regex separators (separators > 1 char and different from '\\s+' are interpreted as regex); you can avoid this warning by specifying engine='python'.\n",
      "  return func(*args, **kwargs)\n"
     ]
    }
   ],
   "source": [
    "sw6 = pd.read_csv(\"sw/SW_EpisodeVI.txt\", sep=' \"\" ')"
   ]
  },
  {
   "cell_type": "code",
   "execution_count": 17,
   "id": "121128f0",
   "metadata": {},
   "outputs": [],
   "source": [
    "sw6.columns = [\"col\"]\n",
    "df6 = sw6['col'].str.split('\"', expand = True)"
   ]
  },
  {
   "cell_type": "code",
   "execution_count": 18,
   "id": "24262397",
   "metadata": {},
   "outputs": [
    {
     "data": {
      "text/html": [
       "<div>\n",
       "<style scoped>\n",
       "    .dataframe tbody tr th:only-of-type {\n",
       "        vertical-align: middle;\n",
       "    }\n",
       "\n",
       "    .dataframe tbody tr th {\n",
       "        vertical-align: top;\n",
       "    }\n",
       "\n",
       "    .dataframe thead th {\n",
       "        text-align: right;\n",
       "    }\n",
       "</style>\n",
       "<table border=\"1\" class=\"dataframe\">\n",
       "  <thead>\n",
       "    <tr style=\"text-align: right;\">\n",
       "      <th></th>\n",
       "      <th>0</th>\n",
       "      <th>1</th>\n",
       "      <th>2</th>\n",
       "      <th>3</th>\n",
       "      <th>4</th>\n",
       "      <th>5</th>\n",
       "      <th>6</th>\n",
       "      <th>7</th>\n",
       "      <th>8</th>\n",
       "      <th>episode</th>\n",
       "    </tr>\n",
       "  </thead>\n",
       "  <tbody>\n",
       "    <tr>\n",
       "      <th>0</th>\n",
       "      <td></td>\n",
       "      <td>1</td>\n",
       "      <td></td>\n",
       "      <td>SHUTTLE CAPTAIN</td>\n",
       "      <td></td>\n",
       "      <td>Command station, this is ST 321. Code Clearanc...</td>\n",
       "      <td></td>\n",
       "      <td>None</td>\n",
       "      <td>None</td>\n",
       "      <td>episode6</td>\n",
       "    </tr>\n",
       "    <tr>\n",
       "      <th>1</th>\n",
       "      <td></td>\n",
       "      <td>2</td>\n",
       "      <td></td>\n",
       "      <td>DEATH STAR CONTROLLER</td>\n",
       "      <td></td>\n",
       "      <td>The security deflector shield will be deactiva...</td>\n",
       "      <td></td>\n",
       "      <td>None</td>\n",
       "      <td>None</td>\n",
       "      <td>episode6</td>\n",
       "    </tr>\n",
       "    <tr>\n",
       "      <th>2</th>\n",
       "      <td></td>\n",
       "      <td>3</td>\n",
       "      <td></td>\n",
       "      <td>SHUTTLE CAPTAIN</td>\n",
       "      <td></td>\n",
       "      <td>We're starting our approach.</td>\n",
       "      <td></td>\n",
       "      <td>None</td>\n",
       "      <td>None</td>\n",
       "      <td>episode6</td>\n",
       "    </tr>\n",
       "    <tr>\n",
       "      <th>3</th>\n",
       "      <td></td>\n",
       "      <td>4</td>\n",
       "      <td></td>\n",
       "      <td>OFFICER</td>\n",
       "      <td></td>\n",
       "      <td>Inform the commander that Lord Vader's shuttle...</td>\n",
       "      <td></td>\n",
       "      <td>None</td>\n",
       "      <td>None</td>\n",
       "      <td>episode6</td>\n",
       "    </tr>\n",
       "    <tr>\n",
       "      <th>4</th>\n",
       "      <td></td>\n",
       "      <td>5</td>\n",
       "      <td></td>\n",
       "      <td>OPERATOR</td>\n",
       "      <td></td>\n",
       "      <td>Yes, sir.</td>\n",
       "      <td></td>\n",
       "      <td>None</td>\n",
       "      <td>None</td>\n",
       "      <td>episode6</td>\n",
       "    </tr>\n",
       "  </tbody>\n",
       "</table>\n",
       "</div>"
      ],
      "text/plain": [
       "  0  1  2                      3  4  \\\n",
       "0    1           SHUTTLE CAPTAIN      \n",
       "1    2     DEATH STAR CONTROLLER      \n",
       "2    3           SHUTTLE CAPTAIN      \n",
       "3    4                   OFFICER      \n",
       "4    5                  OPERATOR      \n",
       "\n",
       "                                                   5 6     7     8   episode  \n",
       "0  Command station, this is ST 321. Code Clearanc...    None  None  episode6  \n",
       "1  The security deflector shield will be deactiva...    None  None  episode6  \n",
       "2                       We're starting our approach.    None  None  episode6  \n",
       "3  Inform the commander that Lord Vader's shuttle...    None  None  episode6  \n",
       "4                                          Yes, sir.    None  None  episode6  "
      ]
     },
     "execution_count": 18,
     "metadata": {},
     "output_type": "execute_result"
    }
   ],
   "source": [
    "df6[\"episode\"] = \"episode6\"\n",
    "df6.head()"
   ]
  },
  {
   "cell_type": "code",
   "execution_count": 19,
   "id": "8f7273b6",
   "metadata": {},
   "outputs": [],
   "source": [
    "df6n = df6.drop(df6.columns[[0, 1, 2, 4,6,7,8]], axis=1)"
   ]
  },
  {
   "cell_type": "code",
   "execution_count": 20,
   "id": "f375a447",
   "metadata": {},
   "outputs": [],
   "source": [
    "df6n = df6n.rename(columns={3:'char', 5:'dialogue'})"
   ]
  },
  {
   "cell_type": "code",
   "execution_count": 21,
   "id": "df04fc76",
   "metadata": {},
   "outputs": [],
   "source": [
    "findf = pd.concat([newdf, df6n], axis=0).reset_index()"
   ]
  },
  {
   "cell_type": "code",
   "execution_count": 22,
   "id": "d7648cb1",
   "metadata": {},
   "outputs": [
    {
     "data": {
      "text/html": [
       "<div>\n",
       "<style scoped>\n",
       "    .dataframe tbody tr th:only-of-type {\n",
       "        vertical-align: middle;\n",
       "    }\n",
       "\n",
       "    .dataframe tbody tr th {\n",
       "        vertical-align: top;\n",
       "    }\n",
       "\n",
       "    .dataframe thead th {\n",
       "        text-align: right;\n",
       "    }\n",
       "</style>\n",
       "<table border=\"1\" class=\"dataframe\">\n",
       "  <thead>\n",
       "    <tr style=\"text-align: right;\">\n",
       "      <th></th>\n",
       "      <th>char</th>\n",
       "      <th>dialogue</th>\n",
       "      <th>episode</th>\n",
       "    </tr>\n",
       "  </thead>\n",
       "  <tbody>\n",
       "    <tr>\n",
       "      <th>0</th>\n",
       "      <td>THREEPIO</td>\n",
       "      <td>Did you hear that?  They've shut down the main...</td>\n",
       "      <td>episode4</td>\n",
       "    </tr>\n",
       "    <tr>\n",
       "      <th>1</th>\n",
       "      <td>THREEPIO</td>\n",
       "      <td>We're doomed!</td>\n",
       "      <td>episode4</td>\n",
       "    </tr>\n",
       "    <tr>\n",
       "      <th>2</th>\n",
       "      <td>THREEPIO</td>\n",
       "      <td>There'll be no escape for the Princess this time.</td>\n",
       "      <td>episode4</td>\n",
       "    </tr>\n",
       "    <tr>\n",
       "      <th>3</th>\n",
       "      <td>THREEPIO</td>\n",
       "      <td>What's that?</td>\n",
       "      <td>episode4</td>\n",
       "    </tr>\n",
       "    <tr>\n",
       "      <th>4</th>\n",
       "      <td>THREEPIO</td>\n",
       "      <td>I should have known better than to trust the l...</td>\n",
       "      <td>episode4</td>\n",
       "    </tr>\n",
       "  </tbody>\n",
       "</table>\n",
       "</div>"
      ],
      "text/plain": [
       "       char                                           dialogue   episode\n",
       "0  THREEPIO  Did you hear that?  They've shut down the main...  episode4\n",
       "1  THREEPIO                                      We're doomed!  episode4\n",
       "2  THREEPIO  There'll be no escape for the Princess this time.  episode4\n",
       "3  THREEPIO                                       What's that?  episode4\n",
       "4  THREEPIO  I should have known better than to trust the l...  episode4"
      ]
     },
     "execution_count": 22,
     "metadata": {},
     "output_type": "execute_result"
    }
   ],
   "source": [
    "findf = findf[['char','dialogue','episode']]\n",
    "findf.head()"
   ]
  },
  {
   "cell_type": "code",
   "execution_count": 23,
   "id": "9a8ba4f3",
   "metadata": {},
   "outputs": [],
   "source": [
    "findf.to_csv(\"sw/cleandf.csv\", index=False)"
   ]
  },
  {
   "cell_type": "code",
   "execution_count": null,
   "id": "f50c4df7",
   "metadata": {},
   "outputs": [],
   "source": []
  }
 ],
 "metadata": {
  "kernelspec": {
   "display_name": "iron",
   "language": "python",
   "name": "iron"
  },
  "language_info": {
   "codemirror_mode": {
    "name": "ipython",
    "version": 3
   },
   "file_extension": ".py",
   "mimetype": "text/x-python",
   "name": "python",
   "nbconvert_exporter": "python",
   "pygments_lexer": "ipython3",
   "version": "3.9.7"
  },
  "toc": {
   "base_numbering": 1,
   "nav_menu": {},
   "number_sections": true,
   "sideBar": true,
   "skip_h1_title": false,
   "title_cell": "Table of Contents",
   "title_sidebar": "Contents",
   "toc_cell": false,
   "toc_position": {},
   "toc_section_display": true,
   "toc_window_display": false
  }
 },
 "nbformat": 4,
 "nbformat_minor": 5
}
