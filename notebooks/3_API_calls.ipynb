{
 "cells": [
  {
   "cell_type": "code",
   "execution_count": 1,
   "id": "0b4758b8",
   "metadata": {},
   "outputs": [],
   "source": [
    "import requests"
   ]
  },
  {
   "cell_type": "code",
   "execution_count": 2,
   "id": "1fedaef1",
   "metadata": {},
   "outputs": [],
   "source": [
    "# url = f\"http://127.0.0.1:5000/newdialogue\"\n",
    "# lista  = {'dialogue':\"hello\",\"char\":10,\"episode\":2}\n",
    "# requests.post(url, data=lista)"
   ]
  },
  {
   "cell_type": "code",
   "execution_count": 3,
   "id": "a71c286c",
   "metadata": {},
   "outputs": [],
   "source": [
    "from textblob import TextBlob"
   ]
  },
  {
   "cell_type": "code",
   "execution_count": 7,
   "id": "79018ce7",
   "metadata": {},
   "outputs": [],
   "source": [
    "def ie(name):\n",
    "    person = name\n",
    "    blob = TextBlob('hello')\n",
    "    return blob.sentiment"
   ]
  },
  {
   "cell_type": "code",
   "execution_count": 8,
   "id": "1a0b1bc7",
   "metadata": {},
   "outputs": [
    {
     "data": {
      "text/plain": [
       "Sentiment(polarity=0.0, subjectivity=0.0)"
      ]
     },
     "execution_count": 8,
     "metadata": {},
     "output_type": "execute_result"
    }
   ],
   "source": [
    "ie('luke')"
   ]
  }
 ],
 "metadata": {
  "kernelspec": {
   "display_name": "iron",
   "language": "python",
   "name": "iron"
  },
  "language_info": {
   "codemirror_mode": {
    "name": "ipython",
    "version": 3
   },
   "file_extension": ".py",
   "mimetype": "text/x-python",
   "name": "python",
   "nbconvert_exporter": "python",
   "pygments_lexer": "ipython3",
   "version": "3.9.7"
  },
  "toc": {
   "base_numbering": 1,
   "nav_menu": {},
   "number_sections": true,
   "sideBar": true,
   "skip_h1_title": false,
   "title_cell": "Table of Contents",
   "title_sidebar": "Contents",
   "toc_cell": false,
   "toc_position": {},
   "toc_section_display": true,
   "toc_window_display": false
  }
 },
 "nbformat": 4,
 "nbformat_minor": 5
}
